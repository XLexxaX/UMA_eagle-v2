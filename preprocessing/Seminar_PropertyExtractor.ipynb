{
 "cells": [
  {
   "cell_type": "code",
   "execution_count": 9,
   "metadata": {},
   "outputs": [
    {
     "name": "stdout",
     "output_type": "stream",
     "text": [
      "Done\n"
     ]
    }
   ],
   "source": [
    "import re\n",
    "import os\n",
    "\n",
    "rDict = dict()\n",
    "namespaces = [\"http://schema.org/Product/\",\"http://www.w3.org/1999/02/22-rdf-syntax-ns#\"]\n",
    "\n",
    "with open(\"C:/Users/Alexander/Desktop/data_phones/datasets/headphones/target\"+\"_filled2.nt\", \"r\", encoding=\"UTF-8\") as file:\n",
    "    for line in file:\n",
    "        if namespaces[0] in line:\n",
    "            line = line.split('<')[2].split('>')[0].replace(namespaces[0],'')\n",
    "            rDict['<PROPERTY>rdf:'+line+'</PROPERTY>'] = 0\n",
    "        else:\n",
    "            line = line.split('<')[2].split('>')[0].replace(namespaces[1],'')\n",
    "            rDict['<PROPERTY>rdf:'+line+'</PROPERTY>'] = 0\n",
    "print(\"Done\")"
   ]
  },
  {
   "cell_type": "code",
   "execution_count": 10,
   "metadata": {},
   "outputs": [
    {
     "name": "stdout",
     "output_type": "stream",
     "text": [
      "<PROPERTY>rdf:type</PROPERTY>\n",
      "<PROPERTY>rdf:producttype</PROPERTY>\n",
      "<PROPERTY>rdf:width</PROPERTY>\n",
      "<PROPERTY>rdf:depth</PROPERTY>\n",
      "<PROPERTY>rdf:height</PROPERTY>\n",
      "<PROPERTY>rdf:compatibility</PROPERTY>\n",
      "<PROPERTY>rdf:series</PROPERTY>\n",
      "<PROPERTY>rdf:weight</PROPERTY>\n",
      "<PROPERTY>rdf:color</PROPERTY>\n",
      "<PROPERTY>rdf:headphonesformfactor</PROPERTY>\n",
      "<PROPERTY>rdf:headphonescuptype</PROPERTY>\n",
      "<PROPERTY>rdf:foldable</PROPERTY>\n",
      "<PROPERTY>rdf:microphone</PROPERTY>\n",
      "<PROPERTY>rdf:microphonesensitivity</PROPERTY>\n",
      "<PROPERTY>rdf:microphoneresponse</PROPERTY>\n",
      "<PROPERTY>rdf:microphoneaudiodetails</PROPERTY>\n",
      "<PROPERTY>rdf:headphonestechnology</PROPERTY>\n",
      "<PROPERTY>rdf:connectivitytechnology</PROPERTY>\n",
      "<PROPERTY>rdf:soundoutputmode</PROPERTY>\n",
      "<PROPERTY>rdf:frequencyresponse</PROPERTY>\n",
      "<PROPERTY>rdf:maxinputpower</PROPERTY>\n",
      "<PROPERTY>rdf:sensitivity</PROPERTY>\n",
      "<PROPERTY>rdf:thd</PROPERTY>\n",
      "<PROPERTY>rdf:impedance</PROPERTY>\n",
      "<PROPERTY>rdf:diaphragm</PROPERTY>\n",
      "<PROPERTY>rdf:magnetmaterial</PROPERTY>\n",
      "<PROPERTY>rdf:detachablecable</PROPERTY>\n",
      "<PROPERTY>rdf:controls</PROPERTY>\n",
      "<PROPERTY>rdf:cablesincluded</PROPERTY>\n",
      "<PROPERTY>rdf:includedaccessories</PROPERTY>\n",
      "<PROPERTY>rdf:compliantstandards</PROPERTY>\n",
      "<PROPERTY>rdf:warranty</PROPERTY>\n",
      "<PROPERTY>rdf:brand</PROPERTY>\n",
      "<PROPERTY>rdf:model</PROPERTY>\n",
      "<PROPERTY>rdf:mpn</PROPERTY>\n",
      "<PROPERTY>rdf:productgtin</PROPERTY>\n",
      "<PROPERTY>rdf:aditionalfeatures</PROPERTY>\n",
      "<PROPERTY>rdf:mdoel</PROPERTY>\n"
     ]
    }
   ],
   "source": [
    "for item in list(rDict.keys()):\n",
    "    print(item)"
   ]
  },
  {
   "cell_type": "code",
   "execution_count": null,
   "metadata": {
    "collapsed": true
   },
   "outputs": [],
   "source": []
  }
 ],
 "metadata": {
  "kernelspec": {
   "display_name": "Python 3",
   "language": "python",
   "name": "python3"
  },
  "language_info": {
   "codemirror_mode": {
    "name": "ipython",
    "version": 3
   },
   "file_extension": ".py",
   "mimetype": "text/x-python",
   "name": "python",
   "nbconvert_exporter": "python",
   "pygments_lexer": "ipython3",
   "version": "3.6.1"
  }
 },
 "nbformat": 4,
 "nbformat_minor": 2
}
