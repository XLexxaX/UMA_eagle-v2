{
 "cells": [
  {
   "cell_type": "code",
   "execution_count": 1,
   "metadata": {},
   "outputs": [
    {
     "name": "stdout",
     "output_type": "stream",
     "text": [
      "Done\n"
     ]
    }
   ],
   "source": [
    "import re\n",
    "import os\n",
    "\n",
    "\n",
    "e1Matcher = re.compile('<entity1 rdf:resource=\\\".*\\\"/>')\n",
    "e2Matcher = re.compile('<entity2 rdf:resource=\".*\"/>')\n",
    "rMatcher = re.compile('<relation>=</relation')\n",
    "\n",
    "out = open(\"C:/Users/Alexander/Desktop/data_phones/datasets/headphones/alignment.ttl\", \"w\")\n",
    "with open(\"C:/Users/Alexander/Desktop/data_phones/datasets/headphones/alignment.xml\", \"r\") as file:\n",
    "    for line in file:\n",
    "        a=e1Matcher.search(line, 1) \n",
    "        if a:\n",
    "            e1 = str(a.group(0)).split(\"\\\"\",1)[1].split(\"\\\"\",1)[0]\n",
    "        a=e2Matcher.search(line, 1)\n",
    "        if a:\n",
    "            e2 = str(a.group(0)).split(\"\\\"\",1)[1].split(\"\\\"\",1)[0]\n",
    "        a=rMatcher.search(line, 1)\n",
    "        if a:\n",
    "            out.write('<'+e2+'> <http://www.w3.org/2002/07/owl#sameAs> <'+e1+'> .\\n')\n",
    "        \n",
    "out.close()\n",
    "print(\"Done\")"
   ]
  },
  {
   "cell_type": "code",
   "execution_count": null,
   "metadata": {
    "collapsed": true
   },
   "outputs": [],
   "source": []
  }
 ],
 "metadata": {
  "kernelspec": {
   "display_name": "Python 3",
   "language": "python",
   "name": "python3"
  },
  "language_info": {
   "codemirror_mode": {
    "name": "ipython",
    "version": 3
   },
   "file_extension": ".py",
   "mimetype": "text/x-python",
   "name": "python",
   "nbconvert_exporter": "python",
   "pygments_lexer": "ipython3",
   "version": "3.6.1"
  }
 },
 "nbformat": 4,
 "nbformat_minor": 2
}
